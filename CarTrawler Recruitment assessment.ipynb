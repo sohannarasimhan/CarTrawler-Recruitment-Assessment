{
 "cells": [
  {
   "cell_type": "code",
   "execution_count": 96,
   "metadata": {},
   "outputs": [],
   "source": [
    "import pandas as pd\n",
    "import seaborn as sns"
   ]
  },
  {
   "cell_type": "code",
   "execution_count": 97,
   "metadata": {},
   "outputs": [],
   "source": [
    "df=pd.read_excel('Recruitment Assessment.xlsx',sheet_name='Data')"
   ]
  },
  {
   "cell_type": "code",
   "execution_count": 98,
   "metadata": {},
   "outputs": [
    {
     "data": {
      "text/html": [
       "<div>\n",
       "<style scoped>\n",
       "    .dataframe tbody tr th:only-of-type {\n",
       "        vertical-align: middle;\n",
       "    }\n",
       "\n",
       "    .dataframe tbody tr th {\n",
       "        vertical-align: top;\n",
       "    }\n",
       "\n",
       "    .dataframe thead th {\n",
       "        text-align: right;\n",
       "    }\n",
       "</style>\n",
       "<table border=\"1\" class=\"dataframe\">\n",
       "  <thead>\n",
       "    <tr style=\"text-align: right;\">\n",
       "      <th></th>\n",
       "      <th>BOOKINGDATE</th>\n",
       "      <th>TEST_ARM</th>\n",
       "      <th>DEVICE_GROUP</th>\n",
       "      <th>RESERVATION_ID</th>\n",
       "      <th>CURRENT_BOOKING_STATUS</th>\n",
       "      <th>TRADING_SQUAD</th>\n",
       "      <th>TOUCHPOINT_NAME</th>\n",
       "      <th>PICKUP_DATE</th>\n",
       "      <th>PAYMENT_MODEL</th>\n",
       "      <th>CARTYPE</th>\n",
       "      <th>BOOKINGS</th>\n",
       "      <th>CONFIRMED_BOOKINGS</th>\n",
       "      <th>CONFIRMED_RENTAL_DAYS</th>\n",
       "      <th>CAR_REVENUE</th>\n",
       "      <th>CAR_SELLING_PRICE</th>\n",
       "      <th>CASH_BALANCE_EUR</th>\n",
       "      <th>COSTS</th>\n",
       "      <th>UNIT_MARGIN</th>\n",
       "    </tr>\n",
       "  </thead>\n",
       "  <tbody>\n",
       "    <tr>\n",
       "      <td>0</td>\n",
       "      <td>2022-07-08</td>\n",
       "      <td>CON.A</td>\n",
       "      <td>Mobile Web</td>\n",
       "      <td>CA617197600</td>\n",
       "      <td>Confirmed</td>\n",
       "      <td>OTAs &amp; Car Brands</td>\n",
       "      <td>HomePage</td>\n",
       "      <td>2022-07-30</td>\n",
       "      <td>PRE</td>\n",
       "      <td>OTHER</td>\n",
       "      <td>1</td>\n",
       "      <td>1</td>\n",
       "      <td>15</td>\n",
       "      <td>662.1997</td>\n",
       "      <td>3754.33</td>\n",
       "      <td>3682.3896</td>\n",
       "      <td>-25.7262</td>\n",
       "      <td>636.4735</td>\n",
       "    </tr>\n",
       "    <tr>\n",
       "      <td>1</td>\n",
       "      <td>2022-07-05</td>\n",
       "      <td>CON.A</td>\n",
       "      <td>Desktop Web</td>\n",
       "      <td>HR615477720</td>\n",
       "      <td>Confirmed</td>\n",
       "      <td>OTAs &amp; Car Brands</td>\n",
       "      <td>HomePage</td>\n",
       "      <td>2022-07-23</td>\n",
       "      <td>PRE</td>\n",
       "      <td>SUV</td>\n",
       "      <td>1</td>\n",
       "      <td>1</td>\n",
       "      <td>28</td>\n",
       "      <td>607.7588</td>\n",
       "      <td>5124.16</td>\n",
       "      <td>5124.1600</td>\n",
       "      <td>-8.5491</td>\n",
       "      <td>599.2097</td>\n",
       "    </tr>\n",
       "    <tr>\n",
       "      <td>2</td>\n",
       "      <td>2022-06-01</td>\n",
       "      <td>CON.A</td>\n",
       "      <td>Desktop Web</td>\n",
       "      <td>AE807708590</td>\n",
       "      <td>Confirmed</td>\n",
       "      <td>Airlines - EMEA</td>\n",
       "      <td>Manage My Booking</td>\n",
       "      <td>2022-06-18</td>\n",
       "      <td>PRE</td>\n",
       "      <td>OTHER</td>\n",
       "      <td>1</td>\n",
       "      <td>1</td>\n",
       "      <td>8</td>\n",
       "      <td>222.8471</td>\n",
       "      <td>980.36</td>\n",
       "      <td>976.8426</td>\n",
       "      <td>281.1123</td>\n",
       "      <td>503.9594</td>\n",
       "    </tr>\n",
       "    <tr>\n",
       "      <td>3</td>\n",
       "      <td>2022-07-13</td>\n",
       "      <td>CON.A</td>\n",
       "      <td>Desktop Web</td>\n",
       "      <td>FR619405760</td>\n",
       "      <td>Confirmed</td>\n",
       "      <td>OTAs &amp; Car Brands</td>\n",
       "      <td>HomePage</td>\n",
       "      <td>2022-08-07</td>\n",
       "      <td>PPDEP</td>\n",
       "      <td>OTHER</td>\n",
       "      <td>1</td>\n",
       "      <td>1</td>\n",
       "      <td>13</td>\n",
       "      <td>481.0732</td>\n",
       "      <td>3207.14</td>\n",
       "      <td>23.6502</td>\n",
       "      <td>-13.2806</td>\n",
       "      <td>467.7926</td>\n",
       "    </tr>\n",
       "    <tr>\n",
       "      <td>4</td>\n",
       "      <td>2022-07-18</td>\n",
       "      <td>CON.A</td>\n",
       "      <td>Desktop Web</td>\n",
       "      <td>GR621629000</td>\n",
       "      <td>Confirmed</td>\n",
       "      <td>OTAs &amp; Car Brands</td>\n",
       "      <td>HomePage</td>\n",
       "      <td>2022-08-12</td>\n",
       "      <td>PRE</td>\n",
       "      <td>ECONOMY</td>\n",
       "      <td>1</td>\n",
       "      <td>1</td>\n",
       "      <td>28</td>\n",
       "      <td>406.1900</td>\n",
       "      <td>2226.19</td>\n",
       "      <td>2226.1900</td>\n",
       "      <td>27.8727</td>\n",
       "      <td>434.0627</td>\n",
       "    </tr>\n",
       "  </tbody>\n",
       "</table>\n",
       "</div>"
      ],
      "text/plain": [
       "  BOOKINGDATE TEST_ARM DEVICE_GROUP RESERVATION_ID CURRENT_BOOKING_STATUS  \\\n",
       "0  2022-07-08    CON.A   Mobile Web    CA617197600              Confirmed   \n",
       "1  2022-07-05    CON.A  Desktop Web    HR615477720              Confirmed   \n",
       "2  2022-06-01    CON.A  Desktop Web    AE807708590              Confirmed   \n",
       "3  2022-07-13    CON.A  Desktop Web    FR619405760              Confirmed   \n",
       "4  2022-07-18    CON.A  Desktop Web    GR621629000              Confirmed   \n",
       "\n",
       "       TRADING_SQUAD    TOUCHPOINT_NAME PICKUP_DATE PAYMENT_MODEL  CARTYPE  \\\n",
       "0  OTAs & Car Brands           HomePage  2022-07-30           PRE    OTHER   \n",
       "1  OTAs & Car Brands           HomePage  2022-07-23           PRE      SUV   \n",
       "2    Airlines - EMEA  Manage My Booking  2022-06-18           PRE    OTHER   \n",
       "3  OTAs & Car Brands           HomePage  2022-08-07         PPDEP    OTHER   \n",
       "4  OTAs & Car Brands           HomePage  2022-08-12           PRE  ECONOMY   \n",
       "\n",
       "   BOOKINGS  CONFIRMED_BOOKINGS  CONFIRMED_RENTAL_DAYS  CAR_REVENUE  \\\n",
       "0         1                   1                     15     662.1997   \n",
       "1         1                   1                     28     607.7588   \n",
       "2         1                   1                      8     222.8471   \n",
       "3         1                   1                     13     481.0732   \n",
       "4         1                   1                     28     406.1900   \n",
       "\n",
       "   CAR_SELLING_PRICE  CASH_BALANCE_EUR     COSTS  UNIT_MARGIN  \n",
       "0            3754.33         3682.3896  -25.7262     636.4735  \n",
       "1            5124.16         5124.1600   -8.5491     599.2097  \n",
       "2             980.36          976.8426  281.1123     503.9594  \n",
       "3            3207.14           23.6502  -13.2806     467.7926  \n",
       "4            2226.19         2226.1900   27.8727     434.0627  "
      ]
     },
     "execution_count": 98,
     "metadata": {},
     "output_type": "execute_result"
    }
   ],
   "source": [
    "df.head()"
   ]
  },
  {
   "cell_type": "code",
   "execution_count": 99,
   "metadata": {},
   "outputs": [
    {
     "data": {
      "text/plain": [
       "Index(['BOOKINGDATE', 'TEST_ARM', 'DEVICE_GROUP', 'RESERVATION_ID',\n",
       "       'CURRENT_BOOKING_STATUS', 'TRADING_SQUAD', 'TOUCHPOINT_NAME',\n",
       "       'PICKUP_DATE', 'PAYMENT_MODEL', 'CARTYPE', 'BOOKINGS',\n",
       "       'CONFIRMED_BOOKINGS', 'CONFIRMED_RENTAL_DAYS', 'CAR_REVENUE',\n",
       "       'CAR_SELLING_PRICE', 'CASH_BALANCE_EUR', 'COSTS', 'UNIT_MARGIN'],\n",
       "      dtype='object')"
      ]
     },
     "execution_count": 99,
     "metadata": {},
     "output_type": "execute_result"
    }
   ],
   "source": [
    "df.columns"
   ]
  },
  {
   "cell_type": "code",
   "execution_count": 100,
   "metadata": {},
   "outputs": [
    {
     "data": {
      "text/plain": [
       "CAR_SELLING_PRICE    True\n",
       "dtype: bool"
      ]
     },
     "execution_count": 100,
     "metadata": {},
     "output_type": "execute_result"
    }
   ],
   "source": [
    "df.isna().any()[lambda x: x]"
   ]
  },
  {
   "cell_type": "code",
   "execution_count": 101,
   "metadata": {},
   "outputs": [
    {
     "data": {
      "text/plain": [
       "array(['CON.A', 'CON.B'], dtype=object)"
      ]
     },
     "execution_count": 101,
     "metadata": {},
     "output_type": "execute_result"
    }
   ],
   "source": [
    "df.TEST_ARM.unique()"
   ]
  },
  {
   "cell_type": "code",
   "execution_count": 102,
   "metadata": {},
   "outputs": [
    {
     "data": {
      "text/plain": [
       "CON.A    2734\n",
       "CON.B    2672\n",
       "Name: TEST_ARM, dtype: int64"
      ]
     },
     "execution_count": 102,
     "metadata": {},
     "output_type": "execute_result"
    }
   ],
   "source": [
    "df.TEST_ARM.value_counts()"
   ]
  },
  {
   "cell_type": "code",
   "execution_count": 103,
   "metadata": {},
   "outputs": [
    {
     "data": {
      "text/plain": [
       "False    4201\n",
       "True     1205\n",
       "Name: CAR_SELLING_PRICE, dtype: int64"
      ]
     },
     "execution_count": 103,
     "metadata": {},
     "output_type": "execute_result"
    }
   ],
   "source": [
    "df.CAR_SELLING_PRICE.isna().value_counts()"
   ]
  },
  {
   "cell_type": "code",
   "execution_count": 104,
   "metadata": {},
   "outputs": [],
   "source": [
    "df_a=df[df['TEST_ARM']=='CON.A']\n",
    "df_b=df[df['TEST_ARM']=='CON.B']"
   ]
  },
  {
   "cell_type": "code",
   "execution_count": 105,
   "metadata": {},
   "outputs": [
    {
     "data": {
      "text/plain": [
       "CAR_SELLING_PRICE    True\n",
       "dtype: bool"
      ]
     },
     "execution_count": 105,
     "metadata": {},
     "output_type": "execute_result"
    }
   ],
   "source": [
    "df_a.isna().any()[lambda x: x]"
   ]
  },
  {
   "cell_type": "code",
   "execution_count": 106,
   "metadata": {},
   "outputs": [
    {
     "data": {
      "text/plain": [
       "array(['Mobile Web', 'Desktop Web', 'App iOS'], dtype=object)"
      ]
     },
     "execution_count": 106,
     "metadata": {},
     "output_type": "execute_result"
    }
   ],
   "source": [
    "df_a.DEVICE_GROUP.unique()"
   ]
  },
  {
   "cell_type": "code",
   "execution_count": 107,
   "metadata": {},
   "outputs": [
    {
     "data": {
      "text/plain": [
       "Desktop Web    2370\n",
       "Mobile Web      331\n",
       "App iOS          33\n",
       "Name: DEVICE_GROUP, dtype: int64"
      ]
     },
     "execution_count": 107,
     "metadata": {},
     "output_type": "execute_result"
    }
   ],
   "source": [
    "df_a.DEVICE_GROUP.value_counts()"
   ]
  },
  {
   "cell_type": "code",
   "execution_count": 108,
   "metadata": {},
   "outputs": [
    {
     "data": {
      "text/plain": [
       "array(['OTAs & Car Brands', 'Airlines - EMEA'], dtype=object)"
      ]
     },
     "execution_count": 108,
     "metadata": {},
     "output_type": "execute_result"
    }
   ],
   "source": [
    "df_a.TRADING_SQUAD.unique()"
   ]
  },
  {
   "cell_type": "code",
   "execution_count": 109,
   "metadata": {},
   "outputs": [
    {
     "data": {
      "text/plain": [
       "Airlines - EMEA      2104\n",
       "OTAs & Car Brands     630\n",
       "Name: TRADING_SQUAD, dtype: int64"
      ]
     },
     "execution_count": 109,
     "metadata": {},
     "output_type": "execute_result"
    }
   ],
   "source": [
    "df_a.TRADING_SQUAD.value_counts()"
   ]
  },
  {
   "cell_type": "code",
   "execution_count": 110,
   "metadata": {},
   "outputs": [
    {
     "data": {
      "text/plain": [
       "array(['Confirmed', 'Cancelled/Other'], dtype=object)"
      ]
     },
     "execution_count": 110,
     "metadata": {},
     "output_type": "execute_result"
    }
   ],
   "source": [
    "df_a.CURRENT_BOOKING_STATUS.unique()"
   ]
  },
  {
   "cell_type": "code",
   "execution_count": 111,
   "metadata": {},
   "outputs": [
    {
     "data": {
      "text/plain": [
       "Confirmed          2130\n",
       "Cancelled/Other     604\n",
       "Name: CURRENT_BOOKING_STATUS, dtype: int64"
      ]
     },
     "execution_count": 111,
     "metadata": {},
     "output_type": "execute_result"
    }
   ],
   "source": [
    "df_a.CURRENT_BOOKING_STATUS.value_counts()"
   ]
  },
  {
   "cell_type": "code",
   "execution_count": 112,
   "metadata": {},
   "outputs": [
    {
     "data": {
      "text/plain": [
       "array(['PRE', 'PPDEP'], dtype=object)"
      ]
     },
     "execution_count": 112,
     "metadata": {},
     "output_type": "execute_result"
    }
   ],
   "source": [
    "df_a.PAYMENT_MODEL.unique()"
   ]
  },
  {
   "cell_type": "code",
   "execution_count": 113,
   "metadata": {},
   "outputs": [
    {
     "data": {
      "text/plain": [
       "PRE      1833\n",
       "PPDEP     901\n",
       "Name: PAYMENT_MODEL, dtype: int64"
      ]
     },
     "execution_count": 113,
     "metadata": {},
     "output_type": "execute_result"
    }
   ],
   "source": [
    "df_a.PAYMENT_MODEL.value_counts()"
   ]
  },
  {
   "cell_type": "code",
   "execution_count": 114,
   "metadata": {},
   "outputs": [
    {
     "data": {
      "text/plain": [
       "array(['HomePage', 'Manage My Booking', 'Confirmation Page', 'FlightPath'],\n",
       "      dtype=object)"
      ]
     },
     "execution_count": 114,
     "metadata": {},
     "output_type": "execute_result"
    }
   ],
   "source": [
    "df_a.TOUCHPOINT_NAME.unique()"
   ]
  },
  {
   "cell_type": "code",
   "execution_count": 115,
   "metadata": {},
   "outputs": [
    {
     "data": {
      "text/plain": [
       "Confirmation Page    1356\n",
       "Manage My Booking     673\n",
       "HomePage              630\n",
       "FlightPath             75\n",
       "Name: TOUCHPOINT_NAME, dtype: int64"
      ]
     },
     "execution_count": 115,
     "metadata": {},
     "output_type": "execute_result"
    }
   ],
   "source": [
    "df_a.TOUCHPOINT_NAME.value_counts()"
   ]
  },
  {
   "cell_type": "code",
   "execution_count": 116,
   "metadata": {},
   "outputs": [
    {
     "data": {
      "text/plain": [
       "array(['OTHER', 'SUV', 'ECONOMY', 'COMPACT', 'MINI'], dtype=object)"
      ]
     },
     "execution_count": 116,
     "metadata": {},
     "output_type": "execute_result"
    }
   ],
   "source": [
    "df_a.CARTYPE.unique()"
   ]
  },
  {
   "cell_type": "code",
   "execution_count": 117,
   "metadata": {},
   "outputs": [
    {
     "data": {
      "text/plain": [
       "ECONOMY    828\n",
       "COMPACT    663\n",
       "OTHER      624\n",
       "MINI       321\n",
       "SUV        298\n",
       "Name: CARTYPE, dtype: int64"
      ]
     },
     "execution_count": 117,
     "metadata": {},
     "output_type": "execute_result"
    }
   ],
   "source": [
    "df_a.CARTYPE.value_counts()"
   ]
  },
  {
   "cell_type": "code",
   "execution_count": 118,
   "metadata": {},
   "outputs": [
    {
     "data": {
      "text/plain": [
       "count    2734.000000\n",
       "mean       94.629319\n",
       "std       104.745819\n",
       "min         0.000000\n",
       "25%        22.041350\n",
       "50%        71.394200\n",
       "75%       129.844975\n",
       "max      1139.830000\n",
       "Name: CAR_REVENUE, dtype: float64"
      ]
     },
     "execution_count": 118,
     "metadata": {},
     "output_type": "execute_result"
    }
   ],
   "source": [
    "df_a.CAR_REVENUE.describe()"
   ]
  },
  {
   "cell_type": "code",
   "execution_count": 119,
   "metadata": {},
   "outputs": [
    {
     "data": {
      "text/plain": [
       "<matplotlib.axes._subplots.AxesSubplot at 0x16576807088>"
      ]
     },
     "execution_count": 119,
     "metadata": {},
     "output_type": "execute_result"
    },
    {
     "data": {
      "image/png": "[encoded data removed]",
      "text/plain": [
       "<Figure size 432x288 with 1 Axes>"
      ]
     },
     "metadata": {
      "needs_background": "light"
     },
     "output_type": "display_data"
    }
   ],
   "source": [
    "sns.boxplot(data=df_a,x='CAR_REVENUE')"
   ]
  },
  {
   "cell_type": "code",
   "execution_count": 120,
   "metadata": {},
   "outputs": [
    {
     "data": {
      "text/plain": [
       "count    2734.000000\n",
       "mean       56.386478\n",
       "std        63.639471\n",
       "min       -90.479100\n",
       "25%         3.196700\n",
       "50%        40.945050\n",
       "75%        86.238550\n",
       "max       636.473500\n",
       "Name: UNIT_MARGIN, dtype: float64"
      ]
     },
     "execution_count": 120,
     "metadata": {},
     "output_type": "execute_result"
    }
   ],
   "source": [
    "df_a.UNIT_MARGIN.describe()"
   ]
  },
  {
   "cell_type": "code",
   "execution_count": 121,
   "metadata": {},
   "outputs": [
    {
     "data": {
      "text/plain": [
       "<matplotlib.axes._subplots.AxesSubplot at 0x16575eac3c8>"
      ]
     },
     "execution_count": 121,
     "metadata": {},
     "output_type": "execute_result"
    },
    {
     "data": {
      "image/png": "[encoded data removed]",
      "text/plain": [
       "<Figure size 432x288 with 1 Axes>"
      ]
     },
     "metadata": {
      "needs_background": "light"
     },
     "output_type": "display_data"
    }
   ],
   "source": [
    "sns.boxplot(data=df_a,x='UNIT_MARGIN')"
   ]
  },
  {
   "cell_type": "code",
   "execution_count": 122,
   "metadata": {},
   "outputs": [
    {
     "data": {
      "text/plain": [
       "count    2734.000000\n",
       "mean      495.939892\n",
       "std       594.651876\n",
       "min         0.000000\n",
       "25%        23.564100\n",
       "50%       345.915000\n",
       "75%       723.185150\n",
       "max      5947.452300\n",
       "Name: CASH_BALANCE_EUR, dtype: float64"
      ]
     },
     "execution_count": 122,
     "metadata": {},
     "output_type": "execute_result"
    }
   ],
   "source": [
    "df_a.CASH_BALANCE_EUR.describe()"
   ]
  },
  {
   "cell_type": "code",
   "execution_count": 123,
   "metadata": {},
   "outputs": [
    {
     "data": {
      "text/plain": [
       "<matplotlib.axes._subplots.AxesSubplot at 0x16576876448>"
      ]
     },
     "execution_count": 123,
     "metadata": {},
     "output_type": "execute_result"
    },
    {
     "data": {
      "image/png": "[encoded data removed]",
      "text/plain": [
       "<Figure size 432x288 with 1 Axes>"
      ]
     },
     "metadata": {
      "needs_background": "light"
     },
     "output_type": "display_data"
    }
   ],
   "source": [
    "sns.boxplot(data=df_a,x='CASH_BALANCE_EUR')"
   ]
  },
  {
   "cell_type": "code",
   "execution_count": 124,
   "metadata": {},
   "outputs": [
    {
     "data": {
      "text/plain": [
       "count    2734.000000\n",
       "mean      -38.242840\n",
       "std        76.339928\n",
       "min      -776.615100\n",
       "25%       -59.154300\n",
       "50%       -10.826500\n",
       "75%         0.000000\n",
       "max       281.112300\n",
       "Name: COSTS, dtype: float64"
      ]
     },
     "execution_count": 124,
     "metadata": {},
     "output_type": "execute_result"
    }
   ],
   "source": [
    "df_a.COSTS.describe()"
   ]
  },
  {
   "cell_type": "code",
   "execution_count": 125,
   "metadata": {},
   "outputs": [
    {
     "data": {
      "text/plain": [
       "<matplotlib.axes._subplots.AxesSubplot at 0x1657693c708>"
      ]
     },
     "execution_count": 125,
     "metadata": {},
     "output_type": "execute_result"
    },
    {
     "data": {
      "image/png": "[encoded data removed]",
      "text/plain": [
       "<Figure size 432x288 with 1 Axes>"
      ]
     },
     "metadata": {
      "needs_background": "light"
     },
     "output_type": "display_data"
    }
   ],
   "source": [
    "sns.boxplot(data=df_a,x='COSTS')"
   ]
  },
  {
   "cell_type": "code",
   "execution_count": 126,
   "metadata": {},
   "outputs": [
    {
     "data": {
      "text/plain": [
       "1    2734\n",
       "Name: BOOKINGS, dtype: int64"
      ]
     },
     "execution_count": 126,
     "metadata": {},
     "output_type": "execute_result"
    }
   ],
   "source": [
    "df_a.BOOKINGS.value_counts()"
   ]
  },
  {
   "cell_type": "code",
   "execution_count": 127,
   "metadata": {},
   "outputs": [
    {
     "data": {
      "text/plain": [
       "1    2130\n",
       "0     604\n",
       "Name: CONFIRMED_BOOKINGS, dtype: int64"
      ]
     },
     "execution_count": 127,
     "metadata": {},
     "output_type": "execute_result"
    }
   ],
   "source": [
    "df_a.CONFIRMED_BOOKINGS.value_counts()"
   ]
  },
  {
   "cell_type": "code",
   "execution_count": 128,
   "metadata": {},
   "outputs": [
    {
     "data": {
      "text/plain": [
       "0     604\n",
       "1      66\n",
       "2     102\n",
       "3     178\n",
       "4     179\n",
       "5     145\n",
       "6     162\n",
       "7     266\n",
       "8     202\n",
       "9     106\n",
       "10    107\n",
       "11     97\n",
       "12     70\n",
       "13     56\n",
       "14    119\n",
       "15     80\n",
       "16     38\n",
       "17     20\n",
       "18     18\n",
       "19     12\n",
       "20     18\n",
       "21     21\n",
       "22     16\n",
       "23      7\n",
       "24      6\n",
       "25      5\n",
       "26      3\n",
       "27      7\n",
       "28      8\n",
       "29      3\n",
       "30      4\n",
       "31      3\n",
       "32      1\n",
       "34      1\n",
       "35      4\n",
       "Name: CONFIRMED_RENTAL_DAYS, dtype: int64"
      ]
     },
     "execution_count": 128,
     "metadata": {},
     "output_type": "execute_result"
    }
   ],
   "source": [
    "df_a.CONFIRMED_RENTAL_DAYS.value_counts().sort_index()"
   ]
  },
  {
   "cell_type": "code",
   "execution_count": 129,
   "metadata": {},
   "outputs": [
    {
     "data": {
      "text/plain": [
       "<bound method Series.reset_index of 2022-06-17      5\n",
       "2022-06-18      5\n",
       "2022-06-19      6\n",
       "2022-06-20      6\n",
       "2022-06-21      8\n",
       "2022-06-22     16\n",
       "2022-06-23     27\n",
       "2022-06-24     18\n",
       "2022-06-25     22\n",
       "2022-06-26      7\n",
       "2022-06-27     28\n",
       "2022-06-28     22\n",
       "2022-06-29     14\n",
       "2022-06-30     29\n",
       "2022-07-01     32\n",
       "2022-07-02     28\n",
       "2022-07-03     16\n",
       "2022-07-04     41\n",
       "2022-07-05     22\n",
       "2022-07-06     40\n",
       "2022-07-07     28\n",
       "2022-07-08     40\n",
       "2022-07-09     33\n",
       "2022-07-10     32\n",
       "2022-07-11     42\n",
       "2022-07-12     34\n",
       "2022-07-13     43\n",
       "2022-07-14     33\n",
       "2022-07-15     41\n",
       "2022-07-16     40\n",
       "2022-07-17     34\n",
       "2022-07-18     53\n",
       "2022-07-19     34\n",
       "2022-07-20     34\n",
       "2022-07-21     57\n",
       "2022-07-22     69\n",
       "2022-07-23     71\n",
       "2022-07-24     52\n",
       "2022-07-25     42\n",
       "2022-07-26     58\n",
       "2022-07-27     48\n",
       "2022-07-28     58\n",
       "2022-07-29     90\n",
       "2022-07-30     91\n",
       "2022-07-31     59\n",
       "2022-08-01     89\n",
       "2022-08-02     84\n",
       "2022-08-03     70\n",
       "2022-08-04     74\n",
       "2022-08-05     86\n",
       "2022-08-06    103\n",
       "2022-08-07     79\n",
       "2022-08-08     77\n",
       "2022-08-09     49\n",
       "2022-08-10     71\n",
       "2022-08-11     78\n",
       "2022-08-12    117\n",
       "2022-08-13     83\n",
       "2022-08-14     66\n",
       "Name: PICKUP_DATE, dtype: int64>"
      ]
     },
     "execution_count": 129,
     "metadata": {},
     "output_type": "execute_result"
    }
   ],
   "source": [
    "df_a.PICKUP_DATE.value_counts().sort_index().reset_index"
   ]
  },
  {
   "cell_type": "code",
   "execution_count": 130,
   "metadata": {},
   "outputs": [
    {
     "data": {
      "text/plain": [
       "CAR_SELLING_PRICE    True\n",
       "dtype: bool"
      ]
     },
     "execution_count": 130,
     "metadata": {},
     "output_type": "execute_result"
    }
   ],
   "source": [
    "df_b.isna().any()[lambda x: x]"
   ]
  },
  {
   "cell_type": "code",
   "execution_count": 131,
   "metadata": {},
   "outputs": [
    {
     "data": {
      "text/plain": [
       "array(['Desktop Web', 'Mobile Web', 'App iOS'], dtype=object)"
      ]
     },
     "execution_count": 131,
     "metadata": {},
     "output_type": "execute_result"
    }
   ],
   "source": [
    "df_b.DEVICE_GROUP.unique()"
   ]
  },
  {
   "cell_type": "code",
   "execution_count": 132,
   "metadata": {},
   "outputs": [
    {
     "data": {
      "text/plain": [
       "Desktop Web    2330\n",
       "Mobile Web      304\n",
       "App iOS          38\n",
       "Name: DEVICE_GROUP, dtype: int64"
      ]
     },
     "execution_count": 132,
     "metadata": {},
     "output_type": "execute_result"
    }
   ],
   "source": [
    "df_b.DEVICE_GROUP.value_counts()"
   ]
  },
  {
   "cell_type": "code",
   "execution_count": 133,
   "metadata": {},
   "outputs": [
    {
     "data": {
      "text/plain": [
       "array(['OTAs & Car Brands', 'Airlines - EMEA'], dtype=object)"
      ]
     },
     "execution_count": 133,
     "metadata": {},
     "output_type": "execute_result"
    }
   ],
   "source": [
    "df_b.TRADING_SQUAD.unique()"
   ]
  },
  {
   "cell_type": "code",
   "execution_count": 134,
   "metadata": {},
   "outputs": [
    {
     "data": {
      "text/plain": [
       "Airlines - EMEA      2087\n",
       "OTAs & Car Brands     585\n",
       "Name: TRADING_SQUAD, dtype: int64"
      ]
     },
     "execution_count": 134,
     "metadata": {},
     "output_type": "execute_result"
    }
   ],
   "source": [
    "df_b.TRADING_SQUAD.value_counts()"
   ]
  },
  {
   "cell_type": "code",
   "execution_count": 135,
   "metadata": {},
   "outputs": [
    {
     "data": {
      "text/plain": [
       "array(['Confirmed', 'Cancelled/Other'], dtype=object)"
      ]
     },
     "execution_count": 135,
     "metadata": {},
     "output_type": "execute_result"
    }
   ],
   "source": [
    "df_b.CURRENT_BOOKING_STATUS.unique()"
   ]
  },
  {
   "cell_type": "code",
   "execution_count": 136,
   "metadata": {},
   "outputs": [
    {
     "data": {
      "text/plain": [
       "Confirmed          2071\n",
       "Cancelled/Other     601\n",
       "Name: CURRENT_BOOKING_STATUS, dtype: int64"
      ]
     },
     "execution_count": 136,
     "metadata": {},
     "output_type": "execute_result"
    }
   ],
   "source": [
    "df_b.CURRENT_BOOKING_STATUS.value_counts()"
   ]
  },
  {
   "cell_type": "code",
   "execution_count": 137,
   "metadata": {},
   "outputs": [
    {
     "data": {
      "text/plain": [
       "array(['PRE'], dtype=object)"
      ]
     },
     "execution_count": 137,
     "metadata": {},
     "output_type": "execute_result"
    }
   ],
   "source": [
    "df_b.PAYMENT_MODEL.unique()"
   ]
  },
  {
   "cell_type": "code",
   "execution_count": 138,
   "metadata": {},
   "outputs": [
    {
     "data": {
      "text/plain": [
       "PRE    2672\n",
       "Name: PAYMENT_MODEL, dtype: int64"
      ]
     },
     "execution_count": 138,
     "metadata": {},
     "output_type": "execute_result"
    }
   ],
   "source": [
    "df_b.PAYMENT_MODEL.value_counts()"
   ]
  },
  {
   "cell_type": "code",
   "execution_count": 139,
   "metadata": {},
   "outputs": [
    {
     "data": {
      "text/plain": [
       "array(['HomePage', 'Confirmation Page', 'Manage My Booking', 'FlightPath'],\n",
       "      dtype=object)"
      ]
     },
     "execution_count": 139,
     "metadata": {},
     "output_type": "execute_result"
    }
   ],
   "source": [
    "df_b.TOUCHPOINT_NAME.unique()"
   ]
  },
  {
   "cell_type": "code",
   "execution_count": 140,
   "metadata": {},
   "outputs": [
    {
     "data": {
      "text/plain": [
       "Confirmation Page    1320\n",
       "Manage My Booking     713\n",
       "HomePage              585\n",
       "FlightPath             54\n",
       "Name: TOUCHPOINT_NAME, dtype: int64"
      ]
     },
     "execution_count": 140,
     "metadata": {},
     "output_type": "execute_result"
    }
   ],
   "source": [
    "df_b.TOUCHPOINT_NAME.value_counts()"
   ]
  },
  {
   "cell_type": "code",
   "execution_count": 141,
   "metadata": {},
   "outputs": [
    {
     "data": {
      "text/plain": [
       "array(['COMPACT', 'OTHER', 'ECONOMY', 'SUV', 'MINI'], dtype=object)"
      ]
     },
     "execution_count": 141,
     "metadata": {},
     "output_type": "execute_result"
    }
   ],
   "source": [
    "df_b.CARTYPE.unique()"
   ]
  },
  {
   "cell_type": "code",
   "execution_count": 142,
   "metadata": {},
   "outputs": [
    {
     "data": {
      "text/plain": [
       "ECONOMY    872\n",
       "COMPACT    608\n",
       "OTHER      590\n",
       "SUV        329\n",
       "MINI       273\n",
       "Name: CARTYPE, dtype: int64"
      ]
     },
     "execution_count": 142,
     "metadata": {},
     "output_type": "execute_result"
    }
   ],
   "source": [
    "df_b.CARTYPE.value_counts()"
   ]
  },
  {
   "cell_type": "code",
   "execution_count": 143,
   "metadata": {},
   "outputs": [
    {
     "data": {
      "text/plain": [
       "count    2672.000000\n",
       "mean       94.090092\n",
       "std       100.378861\n",
       "min         0.000000\n",
       "25%        23.342500\n",
       "50%        70.018000\n",
       "75%       132.015000\n",
       "max       808.775400\n",
       "Name: CAR_REVENUE, dtype: float64"
      ]
     },
     "execution_count": 143,
     "metadata": {},
     "output_type": "execute_result"
    }
   ],
   "source": [
    "df_b.CAR_REVENUE.describe()"
   ]
  },
  {
   "cell_type": "code",
   "execution_count": 144,
   "metadata": {},
   "outputs": [
    {
     "data": {
      "text/plain": [
       "<matplotlib.axes._subplots.AxesSubplot at 0x165768fe2c8>"
      ]
     },
     "execution_count": 144,
     "metadata": {},
     "output_type": "execute_result"
    },
    {
     "data": {
      "image/png": "[encoded data removed]",
      "text/plain": [
       "<Figure size 432x288 with 1 Axes>"
      ]
     },
     "metadata": {
      "needs_background": "light"
     },
     "output_type": "display_data"
    }
   ],
   "source": [
    "sns.boxplot(data=df_b,x='CAR_REVENUE')"
   ]
  },
  {
   "cell_type": "code",
   "execution_count": 145,
   "metadata": {},
   "outputs": [
    {
     "data": {
      "text/plain": [
       "count    2672.000000\n",
       "mean       54.240491\n",
       "std        57.648988\n",
       "min       -84.447900\n",
       "25%         0.000000\n",
       "50%        42.599000\n",
       "75%        85.186650\n",
       "max       393.890200\n",
       "Name: UNIT_MARGIN, dtype: float64"
      ]
     },
     "execution_count": 145,
     "metadata": {},
     "output_type": "execute_result"
    }
   ],
   "source": [
    "df_b.UNIT_MARGIN.describe()"
   ]
  },
  {
   "cell_type": "code",
   "execution_count": 146,
   "metadata": {},
   "outputs": [
    {
     "data": {
      "text/plain": [
       "<matplotlib.axes._subplots.AxesSubplot at 0x165769c3fc8>"
      ]
     },
     "execution_count": 146,
     "metadata": {},
     "output_type": "execute_result"
    },
    {
     "data": {
      "image/png": "[encoded data removed]",
      "text/plain": [
       "<Figure size 432x288 with 1 Axes>"
      ]
     },
     "metadata": {
      "needs_background": "light"
     },
     "output_type": "display_data"
    }
   ],
   "source": [
    "sns.boxplot(data=df_b,x='UNIT_MARGIN')"
   ]
  },
  {
   "cell_type": "code",
   "execution_count": 147,
   "metadata": {},
   "outputs": [
    {
     "data": {
      "text/plain": [
       "count    2672.000000\n",
       "mean      568.942514\n",
       "std       567.808468\n",
       "min         0.000000\n",
       "25%       147.520000\n",
       "50%       446.595000\n",
       "75%       805.706475\n",
       "max      4003.920000\n",
       "Name: CASH_BALANCE_EUR, dtype: float64"
      ]
     },
     "execution_count": 147,
     "metadata": {},
     "output_type": "execute_result"
    }
   ],
   "source": [
    "df_b.CASH_BALANCE_EUR.describe()"
   ]
  },
  {
   "cell_type": "code",
   "execution_count": 148,
   "metadata": {},
   "outputs": [
    {
     "data": {
      "text/plain": [
       "<matplotlib.axes._subplots.AxesSubplot at 0x16576a373c8>"
      ]
     },
     "execution_count": 148,
     "metadata": {},
     "output_type": "execute_result"
    },
    {
     "data": {
      "image/png": "[encoded data removed]",
      "text/plain": [
       "<Figure size 432x288 with 1 Axes>"
      ]
     },
     "metadata": {
      "needs_background": "light"
     },
     "output_type": "display_data"
    }
   ],
   "source": [
    "sns.boxplot(data=df_b,x='CASH_BALANCE_EUR')"
   ]
  },
  {
   "cell_type": "code",
   "execution_count": 149,
   "metadata": {},
   "outputs": [
    {
     "data": {
      "text/plain": [
       "count    2672.000000\n",
       "mean      -39.849601\n",
       "std        75.866439\n",
       "min      -813.332100\n",
       "25%       -63.367650\n",
       "50%       -12.612100\n",
       "75%         0.000000\n",
       "max       105.437500\n",
       "Name: COSTS, dtype: float64"
      ]
     },
     "execution_count": 149,
     "metadata": {},
     "output_type": "execute_result"
    }
   ],
   "source": [
    "df_b.COSTS.describe()"
   ]
  },
  {
   "cell_type": "code",
   "execution_count": 150,
   "metadata": {},
   "outputs": [
    {
     "data": {
      "text/plain": [
       "<matplotlib.axes._subplots.AxesSubplot at 0x16575d9c488>"
      ]
     },
     "execution_count": 150,
     "metadata": {},
     "output_type": "execute_result"
    },
    {
     "data": {
      "image/png": "[encoded data removed]",
      "text/plain": [
       "<Figure size 432x288 with 1 Axes>"
      ]
     },
     "metadata": {
      "needs_background": "light"
     },
     "output_type": "display_data"
    }
   ],
   "source": [
    "sns.boxplot(data=df_b,x='COSTS')"
   ]
  },
  {
   "cell_type": "code",
   "execution_count": 151,
   "metadata": {},
   "outputs": [
    {
     "data": {
      "text/plain": [
       "1    2672\n",
       "Name: BOOKINGS, dtype: int64"
      ]
     },
     "execution_count": 151,
     "metadata": {},
     "output_type": "execute_result"
    }
   ],
   "source": [
    "df_b.BOOKINGS.value_counts()"
   ]
  },
  {
   "cell_type": "code",
   "execution_count": 152,
   "metadata": {},
   "outputs": [
    {
     "data": {
      "text/plain": [
       "1    2071\n",
       "0     601\n",
       "Name: CONFIRMED_BOOKINGS, dtype: int64"
      ]
     },
     "execution_count": 152,
     "metadata": {},
     "output_type": "execute_result"
    }
   ],
   "source": [
    "df_b.CONFIRMED_BOOKINGS.value_counts()"
   ]
  },
  {
   "cell_type": "code",
   "execution_count": 153,
   "metadata": {},
   "outputs": [
    {
     "data": {
      "text/plain": [
       "0     601\n",
       "1      52\n",
       "2      85\n",
       "3     157\n",
       "4     190\n",
       "5     144\n",
       "6     157\n",
       "7     241\n",
       "8     244\n",
       "9     122\n",
       "10    111\n",
       "11     85\n",
       "12     74\n",
       "13     59\n",
       "14    111\n",
       "15     73\n",
       "16     29\n",
       "17     24\n",
       "18     11\n",
       "19     19\n",
       "20     11\n",
       "21     17\n",
       "22     14\n",
       "23      7\n",
       "24      4\n",
       "25      5\n",
       "26      4\n",
       "27      5\n",
       "28      1\n",
       "29      2\n",
       "30      2\n",
       "31      1\n",
       "32      2\n",
       "33      1\n",
       "35      2\n",
       "36      1\n",
       "37      1\n",
       "43      1\n",
       "50      1\n",
       "65      1\n",
       "Name: CONFIRMED_RENTAL_DAYS, dtype: int64"
      ]
     },
     "execution_count": 153,
     "metadata": {},
     "output_type": "execute_result"
    }
   ],
   "source": [
    "df_b.CONFIRMED_RENTAL_DAYS.value_counts().sort_index()"
   ]
  },
  {
   "cell_type": "code",
   "execution_count": 154,
   "metadata": {},
   "outputs": [
    {
     "data": {
      "text/plain": [
       "2022-06-16      3\n",
       "2022-06-17      8\n",
       "2022-06-18      6\n",
       "2022-06-19      6\n",
       "2022-06-20      6\n",
       "2022-06-21      7\n",
       "2022-06-22     17\n",
       "2022-06-23     15\n",
       "2022-06-24     23\n",
       "2022-06-25      9\n",
       "2022-06-26     11\n",
       "2022-06-27     21\n",
       "2022-06-28     19\n",
       "2022-06-29     28\n",
       "2022-06-30     27\n",
       "2022-07-01     38\n",
       "2022-07-02     28\n",
       "2022-07-03     20\n",
       "2022-07-04     32\n",
       "2022-07-05     23\n",
       "2022-07-06     28\n",
       "2022-07-07     30\n",
       "2022-07-08     38\n",
       "2022-07-09     46\n",
       "2022-07-10     32\n",
       "2022-07-11     39\n",
       "2022-07-12     27\n",
       "2022-07-13     33\n",
       "2022-07-14     33\n",
       "2022-07-15     42\n",
       "2022-07-16     42\n",
       "2022-07-17     50\n",
       "2022-07-18     50\n",
       "2022-07-19     34\n",
       "2022-07-20     42\n",
       "2022-07-21     44\n",
       "2022-07-22     52\n",
       "2022-07-23     57\n",
       "2022-07-24     62\n",
       "2022-07-25     67\n",
       "2022-07-26     59\n",
       "2022-07-27     70\n",
       "2022-07-28     70\n",
       "2022-07-29     86\n",
       "2022-07-30    106\n",
       "2022-07-31     79\n",
       "2022-08-01     84\n",
       "2022-08-02     63\n",
       "2022-08-03     62\n",
       "2022-08-04     65\n",
       "2022-08-05     83\n",
       "2022-08-06     83\n",
       "2022-08-07     74\n",
       "2022-08-08     81\n",
       "2022-08-09     68\n",
       "2022-08-10     72\n",
       "2022-08-11     60\n",
       "2022-08-12     72\n",
       "2022-08-13     74\n",
       "2022-08-14     66\n",
       "Name: PICKUP_DATE, dtype: int64"
      ]
     },
     "execution_count": 154,
     "metadata": {},
     "output_type": "execute_result"
    }
   ],
   "source": [
    "df_b.PICKUP_DATE.value_counts().sort_index()"
   ]
  },
  {
   "cell_type": "code",
   "execution_count": 155,
   "metadata": {},
   "outputs": [],
   "source": [
    "def describe(cols, df_a, df_b):\n",
    "    print(df_a.groupby(by=cols).count().iloc[:,1], \"\\n---\\n\",\\\n",
    "         df_b.groupby(by=cols).count().iloc[:,1])\n",
    "def mean_describe(cols, df_a, df_b, col):\n",
    "    print(df_a.groupby(by=cols).mean()[col], \"\\n---\\n\",\\\n",
    "         df_b.groupby(by=cols).mean()[col])"
   ]
  },
  {
   "cell_type": "code",
   "execution_count": 156,
   "metadata": {},
   "outputs": [],
   "source": [
    "pd.options.display.max_rows = 3000"
   ]
  },
  {
   "cell_type": "code",
   "execution_count": 157,
   "metadata": {},
   "outputs": [
    {
     "name": "stdout",
     "output_type": "stream",
     "text": [
      "DEVICE_GROUP  CURRENT_BOOKING_STATUS\n",
      "App iOS       Cancelled/Other             20\n",
      "              Confirmed                   13\n",
      "Desktop Web   Cancelled/Other            513\n",
      "              Confirmed                 1857\n",
      "Mobile Web    Cancelled/Other             71\n",
      "              Confirmed                  260\n",
      "Name: TEST_ARM, dtype: int64 \n",
      "---\n",
      " DEVICE_GROUP  CURRENT_BOOKING_STATUS\n",
      "App iOS       Cancelled/Other             21\n",
      "              Confirmed                   17\n",
      "Desktop Web   Cancelled/Other            506\n",
      "              Confirmed                 1824\n",
      "Mobile Web    Cancelled/Other             74\n",
      "              Confirmed                  230\n",
      "Name: TEST_ARM, dtype: int64\n"
     ]
    }
   ],
   "source": [
    "cols=['DEVICE_GROUP','CURRENT_BOOKING_STATUS']\n",
    "describe(cols,df_a,df_b)"
   ]
  },
  {
   "cell_type": "code",
   "execution_count": 158,
   "metadata": {},
   "outputs": [
    {
     "name": "stdout",
     "output_type": "stream",
     "text": [
      "DEVICE_GROUP  TRADING_SQUAD    \n",
      "App iOS       Airlines - EMEA        32\n",
      "              OTAs & Car Brands       1\n",
      "Desktop Web   Airlines - EMEA      1879\n",
      "              OTAs & Car Brands     491\n",
      "Mobile Web    Airlines - EMEA       193\n",
      "              OTAs & Car Brands     138\n",
      "Name: TEST_ARM, dtype: int64 \n",
      "---\n",
      " DEVICE_GROUP  TRADING_SQUAD    \n",
      "App iOS       Airlines - EMEA        35\n",
      "              OTAs & Car Brands       3\n",
      "Desktop Web   Airlines - EMEA      1869\n",
      "              OTAs & Car Brands     461\n",
      "Mobile Web    Airlines - EMEA       183\n",
      "              OTAs & Car Brands     121\n",
      "Name: TEST_ARM, dtype: int64\n"
     ]
    }
   ],
   "source": [
    "cols=['DEVICE_GROUP','TRADING_SQUAD']\n",
    "describe(cols,df_a,df_b)"
   ]
  },
  {
   "cell_type": "code",
   "execution_count": 159,
   "metadata": {},
   "outputs": [
    {
     "name": "stdout",
     "output_type": "stream",
     "text": [
      "DEVICE_GROUP  TOUCHPOINT_NAME  \n",
      "App iOS       Confirmation Page      23\n",
      "              HomePage                1\n",
      "              Manage My Booking       9\n",
      "Desktop Web   Confirmation Page    1229\n",
      "              FlightPath             67\n",
      "              HomePage              491\n",
      "              Manage My Booking     583\n",
      "Mobile Web    Confirmation Page     104\n",
      "              FlightPath              8\n",
      "              HomePage              138\n",
      "              Manage My Booking      81\n",
      "Name: TEST_ARM, dtype: int64 \n",
      "---\n",
      " DEVICE_GROUP  TOUCHPOINT_NAME  \n",
      "App iOS       Confirmation Page      19\n",
      "              HomePage                3\n",
      "              Manage My Booking      16\n",
      "Desktop Web   Confirmation Page    1206\n",
      "              FlightPath             48\n",
      "              HomePage              461\n",
      "              Manage My Booking     615\n",
      "Mobile Web    Confirmation Page      95\n",
      "              FlightPath              6\n",
      "              HomePage              121\n",
      "              Manage My Booking      82\n",
      "Name: TEST_ARM, dtype: int64\n"
     ]
    }
   ],
   "source": [
    "cols=['DEVICE_GROUP','TOUCHPOINT_NAME']\n",
    "describe(cols,df_a,df_b)"
   ]
  },
  {
   "cell_type": "code",
   "execution_count": 160,
   "metadata": {},
   "outputs": [
    {
     "name": "stdout",
     "output_type": "stream",
     "text": [
      "DEVICE_GROUP  PICKUP_DATE\n",
      "App iOS       2022-06-21      1\n",
      "              2022-06-25      4\n",
      "              2022-07-05      1\n",
      "              2022-07-06      1\n",
      "              2022-07-08      4\n",
      "              2022-07-09      2\n",
      "              2022-07-10      2\n",
      "              2022-07-13      2\n",
      "              2022-07-16      1\n",
      "              2022-07-22      1\n",
      "              2022-07-23      1\n",
      "              2022-07-28      2\n",
      "              2022-07-29      1\n",
      "              2022-07-31      2\n",
      "              2022-08-07      1\n",
      "              2022-08-08      3\n",
      "              2022-08-11      1\n",
      "              2022-08-12      1\n",
      "              2022-08-14      2\n",
      "Desktop Web   2022-06-17      5\n",
      "              2022-06-18      5\n",
      "              2022-06-19      6\n",
      "              2022-06-20      5\n",
      "              2022-06-21      7\n",
      "              2022-06-22     16\n",
      "              2022-06-23     25\n",
      "              2022-06-24     17\n",
      "              2022-06-25     16\n",
      "              2022-06-26      7\n",
      "              2022-06-27     27\n",
      "              2022-06-28     20\n",
      "              2022-06-29     14\n",
      "              2022-06-30     27\n",
      "              2022-07-01     28\n",
      "              2022-07-02     26\n",
      "              2022-07-03     16\n",
      "              2022-07-04     38\n",
      "              2022-07-05     20\n",
      "              2022-07-06     32\n",
      "              2022-07-07     27\n",
      "              2022-07-08     34\n",
      "              2022-07-09     30\n",
      "              2022-07-10     28\n",
      "              2022-07-11     38\n",
      "              2022-07-12     28\n",
      "              2022-07-13     37\n",
      "              2022-07-14     32\n",
      "              2022-07-15     39\n",
      "              2022-07-16     36\n",
      "              2022-07-17     29\n",
      "              2022-07-18     40\n",
      "              2022-07-19     32\n",
      "              2022-07-20     30\n",
      "              2022-07-21     48\n",
      "              2022-07-22     62\n",
      "              2022-07-23     63\n",
      "              2022-07-24     46\n",
      "              2022-07-25     37\n",
      "              2022-07-26     54\n",
      "              2022-07-27     42\n",
      "              2022-07-28     48\n",
      "              2022-07-29     73\n",
      "              2022-07-30     82\n",
      "              2022-07-31     43\n",
      "              2022-08-01     76\n",
      "              2022-08-02     73\n",
      "              2022-08-03     57\n",
      "              2022-08-04     68\n",
      "              2022-08-05     75\n",
      "              2022-08-06     86\n",
      "              2022-08-07     64\n",
      "              2022-08-08     68\n",
      "              2022-08-09     41\n",
      "              2022-08-10     62\n",
      "              2022-08-11     65\n",
      "              2022-08-12     96\n",
      "              2022-08-13     67\n",
      "              2022-08-14     57\n",
      "Mobile Web    2022-06-20      1\n",
      "              2022-06-23      2\n",
      "              2022-06-24      1\n",
      "              2022-06-25      2\n",
      "              2022-06-27      1\n",
      "              2022-06-28      2\n",
      "              2022-06-30      2\n",
      "              2022-07-01      4\n",
      "              2022-07-02      2\n",
      "              2022-07-04      3\n",
      "              2022-07-05      1\n",
      "              2022-07-06      7\n",
      "              2022-07-07      1\n",
      "              2022-07-08      2\n",
      "              2022-07-09      1\n",
      "              2022-07-10      2\n",
      "              2022-07-11      4\n",
      "              2022-07-12      6\n",
      "              2022-07-13      4\n",
      "              2022-07-14      1\n",
      "              2022-07-15      2\n",
      "              2022-07-16      3\n",
      "              2022-07-17      5\n",
      "              2022-07-18     13\n",
      "              2022-07-19      2\n",
      "              2022-07-20      4\n",
      "              2022-07-21      9\n",
      "              2022-07-22      6\n",
      "              2022-07-23      7\n",
      "              2022-07-24      6\n",
      "              2022-07-25      5\n",
      "              2022-07-26      4\n",
      "              2022-07-27      6\n",
      "              2022-07-28      8\n",
      "              2022-07-29     16\n",
      "              2022-07-30      9\n",
      "              2022-07-31     14\n",
      "              2022-08-01     13\n",
      "              2022-08-02     11\n",
      "              2022-08-03     13\n",
      "              2022-08-04      6\n",
      "              2022-08-05     11\n",
      "              2022-08-06     17\n",
      "              2022-08-07     14\n",
      "              2022-08-08      6\n",
      "              2022-08-09      8\n",
      "              2022-08-10      9\n",
      "              2022-08-11     12\n",
      "              2022-08-12     20\n",
      "              2022-08-13     16\n",
      "              2022-08-14      7\n",
      "Name: TEST_ARM, dtype: int64 \n",
      "---\n",
      " DEVICE_GROUP  PICKUP_DATE\n",
      "App iOS       2022-06-19      1\n",
      "              2022-06-24      1\n",
      "              2022-06-30      1\n",
      "              2022-07-03      1\n",
      "              2022-07-06      1\n",
      "              2022-07-07      1\n",
      "              2022-07-11      1\n",
      "              2022-07-12      2\n",
      "              2022-07-13      3\n",
      "              2022-07-17      1\n",
      "              2022-07-20      1\n",
      "              2022-07-24      2\n",
      "              2022-07-26      2\n",
      "              2022-07-27      6\n",
      "              2022-07-29      1\n",
      "              2022-07-30      2\n",
      "              2022-07-31      1\n",
      "              2022-08-01      1\n",
      "              2022-08-02      1\n",
      "              2022-08-04      2\n",
      "              2022-08-08      4\n",
      "              2022-08-10      1\n",
      "              2022-08-12      1\n",
      "Desktop Web   2022-06-16      3\n",
      "              2022-06-17      7\n",
      "              2022-06-18      6\n",
      "              2022-06-19      4\n",
      "              2022-06-20      5\n",
      "              2022-06-21      6\n",
      "              2022-06-22     15\n",
      "              2022-06-23     14\n",
      "              2022-06-24     21\n",
      "              2022-06-25      9\n",
      "              2022-06-26     11\n",
      "              2022-06-27     19\n",
      "              2022-06-28     17\n",
      "              2022-06-29     28\n",
      "              2022-06-30     24\n",
      "              2022-07-01     37\n",
      "              2022-07-02     25\n",
      "              2022-07-03     17\n",
      "              2022-07-04     29\n",
      "              2022-07-05     21\n",
      "              2022-07-06     26\n",
      "              2022-07-07     27\n",
      "              2022-07-08     37\n",
      "              2022-07-09     41\n",
      "              2022-07-10     31\n",
      "              2022-07-11     36\n",
      "              2022-07-12     23\n",
      "              2022-07-13     27\n",
      "              2022-07-14     32\n",
      "              2022-07-15     38\n",
      "              2022-07-16     38\n",
      "              2022-07-17     46\n",
      "              2022-07-18     45\n",
      "              2022-07-19     30\n",
      "              2022-07-20     37\n",
      "              2022-07-21     38\n",
      "              2022-07-22     47\n",
      "              2022-07-23     52\n",
      "              2022-07-24     54\n",
      "              2022-07-25     58\n",
      "              2022-07-26     57\n",
      "              2022-07-27     52\n",
      "              2022-07-28     65\n",
      "              2022-07-29     73\n",
      "              2022-07-30     87\n",
      "              2022-07-31     66\n",
      "              2022-08-01     74\n",
      "              2022-08-02     56\n",
      "              2022-08-03     50\n",
      "              2022-08-04     57\n",
      "              2022-08-05     69\n",
      "              2022-08-06     69\n",
      "              2022-08-07     61\n",
      "              2022-08-08     67\n",
      "              2022-08-09     58\n",
      "              2022-08-10     62\n",
      "              2022-08-11     54\n",
      "              2022-08-12     56\n",
      "              2022-08-13     61\n",
      "              2022-08-14     55\n",
      "Mobile Web    2022-06-17      1\n",
      "              2022-06-19      1\n",
      "              2022-06-20      1\n",
      "              2022-06-21      1\n",
      "              2022-06-22      2\n",
      "              2022-06-23      1\n",
      "              2022-06-24      1\n",
      "              2022-06-27      2\n",
      "              2022-06-28      2\n",
      "              2022-06-30      2\n",
      "              2022-07-01      1\n",
      "              2022-07-02      3\n",
      "              2022-07-03      2\n",
      "              2022-07-04      3\n",
      "              2022-07-05      2\n",
      "              2022-07-06      1\n",
      "              2022-07-07      2\n",
      "              2022-07-08      1\n",
      "              2022-07-09      5\n",
      "              2022-07-10      1\n",
      "              2022-07-11      2\n",
      "              2022-07-12      2\n",
      "              2022-07-13      3\n",
      "              2022-07-14      1\n",
      "              2022-07-15      4\n",
      "              2022-07-16      4\n",
      "              2022-07-17      3\n",
      "              2022-07-18      5\n",
      "              2022-07-19      4\n",
      "              2022-07-20      4\n",
      "              2022-07-21      6\n",
      "              2022-07-22      5\n",
      "              2022-07-23      5\n",
      "              2022-07-24      6\n",
      "              2022-07-25      9\n",
      "              2022-07-27     12\n",
      "              2022-07-28      5\n",
      "              2022-07-29     12\n",
      "              2022-07-30     17\n",
      "              2022-07-31     12\n",
      "              2022-08-01      9\n",
      "              2022-08-02      6\n",
      "              2022-08-03     12\n",
      "              2022-08-04      6\n",
      "              2022-08-05     14\n",
      "              2022-08-06     14\n",
      "              2022-08-07     13\n",
      "              2022-08-08     10\n",
      "              2022-08-09     10\n",
      "              2022-08-10      9\n",
      "              2022-08-11      6\n",
      "              2022-08-12     15\n",
      "              2022-08-13     13\n",
      "              2022-08-14     11\n",
      "Name: TEST_ARM, dtype: int64\n"
     ]
    }
   ],
   "source": [
    "cols=['DEVICE_GROUP','PICKUP_DATE']\n",
    "describe(cols,df_a,df_b)"
   ]
  },
  {
   "cell_type": "code",
   "execution_count": 161,
   "metadata": {},
   "outputs": [
    {
     "name": "stdout",
     "output_type": "stream",
     "text": [
      "DEVICE_GROUP  PAYMENT_MODEL\n",
      "App iOS       PPDEP              11\n",
      "              PRE                22\n",
      "Desktop Web   PPDEP             771\n",
      "              PRE              1599\n",
      "Mobile Web    PPDEP             119\n",
      "              PRE               212\n",
      "Name: TEST_ARM, dtype: int64 \n",
      "---\n",
      " DEVICE_GROUP  PAYMENT_MODEL\n",
      "App iOS       PRE                38\n",
      "Desktop Web   PRE              2330\n",
      "Mobile Web    PRE               304\n",
      "Name: TEST_ARM, dtype: int64\n"
     ]
    }
   ],
   "source": [
    "cols=['DEVICE_GROUP','PAYMENT_MODEL']\n",
    "describe(cols,df_a,df_b)"
   ]
  },
  {
   "cell_type": "code",
   "execution_count": 162,
   "metadata": {},
   "outputs": [
    {
     "name": "stdout",
     "output_type": "stream",
     "text": [
      "DEVICE_GROUP  CARTYPE\n",
      "App iOS       COMPACT      8\n",
      "              ECONOMY     10\n",
      "              OTHER       13\n",
      "              SUV          2\n",
      "Desktop Web   COMPACT    589\n",
      "              ECONOMY    698\n",
      "              MINI       273\n",
      "              OTHER      546\n",
      "              SUV        264\n",
      "Mobile Web    COMPACT     66\n",
      "              ECONOMY    120\n",
      "              MINI        48\n",
      "              OTHER       65\n",
      "              SUV         32\n",
      "Name: TEST_ARM, dtype: int64 \n",
      "---\n",
      " DEVICE_GROUP  CARTYPE\n",
      "App iOS       COMPACT     10\n",
      "              ECONOMY     11\n",
      "              MINI         3\n",
      "              OTHER        7\n",
      "              SUV          7\n",
      "Desktop Web   COMPACT    532\n",
      "              ECONOMY    774\n",
      "              MINI       244\n",
      "              OTHER      505\n",
      "              SUV        275\n",
      "Mobile Web    COMPACT     66\n",
      "              ECONOMY     87\n",
      "              MINI        26\n",
      "              OTHER       78\n",
      "              SUV         47\n",
      "Name: TEST_ARM, dtype: int64\n"
     ]
    }
   ],
   "source": [
    "cols=['DEVICE_GROUP','CARTYPE']\n",
    "describe(cols,df_a,df_b)"
   ]
  },
  {
   "cell_type": "code",
   "execution_count": 163,
   "metadata": {},
   "outputs": [
    {
     "name": "stdout",
     "output_type": "stream",
     "text": [
      "DEVICE_GROUP  CONFIRMED_BOOKINGS\n",
      "App iOS       0                       20\n",
      "              1                       13\n",
      "Desktop Web   0                      513\n",
      "              1                     1857\n",
      "Mobile Web    0                       71\n",
      "              1                      260\n",
      "Name: TEST_ARM, dtype: int64 \n",
      "---\n",
      " DEVICE_GROUP  CONFIRMED_BOOKINGS\n",
      "App iOS       0                       21\n",
      "              1                       17\n",
      "Desktop Web   0                      506\n",
      "              1                     1824\n",
      "Mobile Web    0                       74\n",
      "              1                      230\n",
      "Name: TEST_ARM, dtype: int64\n"
     ]
    }
   ],
   "source": [
    "cols=['DEVICE_GROUP','CONFIRMED_BOOKINGS']\n",
    "describe(cols,df_a,df_b)"
   ]
  },
  {
   "cell_type": "code",
   "execution_count": 164,
   "metadata": {},
   "outputs": [
    {
     "name": "stdout",
     "output_type": "stream",
     "text": [
      "DEVICE_GROUP  CONFIRMED_RENTAL_DAYS\n",
      "App iOS       0                         20\n",
      "              2                          1\n",
      "              3                          1\n",
      "              4                          1\n",
      "              6                          3\n",
      "              7                          1\n",
      "              9                          1\n",
      "              11                         2\n",
      "              14                         1\n",
      "              15                         1\n",
      "              22                         1\n",
      "Desktop Web   0                        513\n",
      "              1                         56\n",
      "              2                         96\n",
      "              3                        152\n",
      "              4                        158\n",
      "              5                        131\n",
      "              6                        139\n",
      "              7                        229\n",
      "              8                        173\n",
      "              9                         89\n",
      "              10                        96\n",
      "              11                        86\n",
      "              12                        64\n",
      "              13                        50\n",
      "              14                       101\n",
      "              15                        64\n",
      "              16                        32\n",
      "              17                        18\n",
      "              18                        15\n",
      "              19                        12\n",
      "              20                        14\n",
      "              21                        20\n",
      "              22                        14\n",
      "              23                         5\n",
      "              24                         4\n",
      "              25                         5\n",
      "              26                         3\n",
      "              27                         7\n",
      "              28                         8\n",
      "              29                         3\n",
      "              30                         4\n",
      "              31                         3\n",
      "              32                         1\n",
      "              34                         1\n",
      "              35                         4\n",
      "Mobile Web    0                         71\n",
      "              1                         10\n",
      "              2                          5\n",
      "              3                         25\n",
      "              4                         20\n",
      "              5                         14\n",
      "              6                         20\n",
      "              7                         36\n",
      "              8                         29\n",
      "              9                         16\n",
      "              10                        11\n",
      "              11                         9\n",
      "              12                         6\n",
      "              13                         6\n",
      "              14                        17\n",
      "              15                        15\n",
      "              16                         6\n",
      "              17                         2\n",
      "              18                         3\n",
      "              20                         4\n",
      "              21                         1\n",
      "              22                         1\n",
      "              23                         2\n",
      "              24                         2\n",
      "Name: TEST_ARM, dtype: int64 \n",
      "---\n",
      " DEVICE_GROUP  CONFIRMED_RENTAL_DAYS\n",
      "App iOS       0                         21\n",
      "              2                          1\n",
      "              3                          1\n",
      "              4                          2\n",
      "              5                          3\n",
      "              6                          1\n",
      "              8                          1\n",
      "              9                          1\n",
      "              11                         2\n",
      "              12                         2\n",
      "              13                         1\n",
      "              19                         1\n",
      "              22                         1\n",
      "Desktop Web   0                        506\n",
      "              1                         50\n",
      "              2                         70\n",
      "              3                        133\n",
      "              4                        179\n",
      "              5                        132\n",
      "              6                        139\n",
      "              7                        210\n",
      "              8                        208\n",
      "              9                        106\n",
      "              10                        95\n",
      "              11                        72\n",
      "              12                        62\n",
      "              13                        54\n",
      "              14                        95\n",
      "              15                        67\n",
      "              16                        29\n",
      "              17                        20\n",
      "              18                        11\n",
      "              19                        16\n",
      "              20                        10\n",
      "              21                        16\n",
      "              22                        11\n",
      "              23                         7\n",
      "              24                         4\n",
      "              25                         4\n",
      "              26                         4\n",
      "              27                         5\n",
      "              28                         1\n",
      "              29                         2\n",
      "              30                         2\n",
      "              31                         1\n",
      "              32                         2\n",
      "              33                         1\n",
      "              35                         2\n",
      "              36                         1\n",
      "              37                         1\n",
      "              43                         1\n",
      "              65                         1\n",
      "Mobile Web    0                         74\n",
      "              1                          2\n",
      "              2                         14\n",
      "              3                         23\n",
      "              4                          9\n",
      "              5                          9\n",
      "              6                         17\n",
      "              7                         31\n",
      "              8                         35\n",
      "              9                         15\n",
      "              10                        16\n",
      "              11                        11\n",
      "              12                        10\n",
      "              13                         4\n",
      "              14                        16\n",
      "              15                         6\n",
      "              17                         4\n",
      "              19                         2\n",
      "              20                         1\n",
      "              21                         1\n",
      "              22                         2\n",
      "              25                         1\n",
      "              50                         1\n",
      "Name: TEST_ARM, dtype: int64\n"
     ]
    }
   ],
   "source": [
    "cols=['DEVICE_GROUP','CONFIRMED_RENTAL_DAYS']\n",
    "describe(cols,df_a,df_b)"
   ]
  },
  {
   "cell_type": "code",
   "execution_count": 165,
   "metadata": {},
   "outputs": [
    {
     "name": "stdout",
     "output_type": "stream",
     "text": [
      "DEVICE_GROUP\n",
      "App iOS        70.945212\n",
      "Desktop Web    97.113477\n",
      "Mobile Web     79.203698\n",
      "Name: CAR_REVENUE, dtype: float64 \n",
      "---\n",
      " DEVICE_GROUP\n",
      "App iOS        74.962274\n",
      "Desktop Web    96.086366\n",
      "Mobile Web     81.180679\n",
      "Name: CAR_REVENUE, dtype: float64\n"
     ]
    }
   ],
   "source": [
    "cols1=['DEVICE_GROUP']\n",
    "col='CAR_REVENUE'\n",
    "mean_describe(cols1,df_a,df_b,col)"
   ]
  },
  {
   "cell_type": "code",
   "execution_count": 166,
   "metadata": {},
   "outputs": [
    {
     "name": "stdout",
     "output_type": "stream",
     "text": [
      "DEVICE_GROUP\n",
      "App iOS        28.257655\n",
      "Desktop Web    56.536880\n",
      "Mobile Web     58.113970\n",
      "Name: UNIT_MARGIN, dtype: float64 \n",
      "---\n",
      " DEVICE_GROUP\n",
      "App iOS        28.696592\n",
      "Desktop Web    54.839305\n",
      "Mobile Web     52.843882\n",
      "Name: UNIT_MARGIN, dtype: float64\n"
     ]
    }
   ],
   "source": [
    "cols1=['DEVICE_GROUP']\n",
    "col='UNIT_MARGIN'\n",
    "mean_describe(cols1,df_a,df_b,col)"
   ]
  },
  {
   "cell_type": "code",
   "execution_count": 167,
   "metadata": {},
   "outputs": [
    {
     "name": "stdout",
     "output_type": "stream",
     "text": [
      "DEVICE_GROUP\n",
      "App iOS        0.393939\n",
      "Desktop Web    0.783544\n",
      "Mobile Web     0.785498\n",
      "Name: CONFIRMED_BOOKINGS, dtype: float64 \n",
      "---\n",
      " DEVICE_GROUP\n",
      "App iOS        0.447368\n",
      "Desktop Web    0.782833\n",
      "Mobile Web     0.756579\n",
      "Name: CONFIRMED_BOOKINGS, dtype: float64\n"
     ]
    }
   ],
   "source": [
    "cols1=['DEVICE_GROUP']\n",
    "col='CONFIRMED_BOOKINGS'\n",
    "mean_describe(cols1,df_a,df_b,col)"
   ]
  },
  {
   "cell_type": "code",
   "execution_count": 168,
   "metadata": {},
   "outputs": [
    {
     "name": "stdout",
     "output_type": "stream",
     "text": [
      "TRADING_SQUAD      TOUCHPOINT_NAME  \n",
      "Airlines - EMEA    Confirmation Page    1356\n",
      "                   FlightPath             75\n",
      "                   Manage My Booking     673\n",
      "OTAs & Car Brands  HomePage              630\n",
      "Name: TEST_ARM, dtype: int64 \n",
      "---\n",
      " TRADING_SQUAD      TOUCHPOINT_NAME  \n",
      "Airlines - EMEA    Confirmation Page    1320\n",
      "                   FlightPath             54\n",
      "                   Manage My Booking     713\n",
      "OTAs & Car Brands  HomePage              585\n",
      "Name: TEST_ARM, dtype: int64\n"
     ]
    }
   ],
   "source": [
    "cols=['TRADING_SQUAD','TOUCHPOINT_NAME']\n",
    "describe(cols,df_a,df_b)"
   ]
  },
  {
   "cell_type": "code",
   "execution_count": 169,
   "metadata": {},
   "outputs": [
    {
     "name": "stdout",
     "output_type": "stream",
     "text": [
      "TRADING_SQUAD      PAYMENT_MODEL\n",
      "Airlines - EMEA    PPDEP             664\n",
      "                   PRE              1440\n",
      "OTAs & Car Brands  PPDEP             237\n",
      "                   PRE               393\n",
      "Name: TEST_ARM, dtype: int64 \n",
      "---\n",
      " TRADING_SQUAD      PAYMENT_MODEL\n",
      "Airlines - EMEA    PRE              2087\n",
      "OTAs & Car Brands  PRE               585\n",
      "Name: TEST_ARM, dtype: int64\n"
     ]
    }
   ],
   "source": [
    "cols=['TRADING_SQUAD','PAYMENT_MODEL']\n",
    "describe(cols,df_a,df_b)"
   ]
  },
  {
   "cell_type": "code",
   "execution_count": 170,
   "metadata": {},
   "outputs": [
    {
     "name": "stdout",
     "output_type": "stream",
     "text": [
      "TRADING_SQUAD      CARTYPE\n",
      "Airlines - EMEA    COMPACT    524\n",
      "                   ECONOMY    644\n",
      "                   MINI       265\n",
      "                   OTHER      456\n",
      "                   SUV        215\n",
      "OTAs & Car Brands  COMPACT    139\n",
      "                   ECONOMY    184\n",
      "                   MINI        56\n",
      "                   OTHER      168\n",
      "                   SUV         83\n",
      "Name: TEST_ARM, dtype: int64 \n",
      "---\n",
      " TRADING_SQUAD      CARTYPE\n",
      "Airlines - EMEA    COMPACT    493\n",
      "                   ECONOMY    707\n",
      "                   MINI       225\n",
      "                   OTHER      418\n",
      "                   SUV        244\n",
      "OTAs & Car Brands  COMPACT    115\n",
      "                   ECONOMY    165\n",
      "                   MINI        48\n",
      "                   OTHER      172\n",
      "                   SUV         85\n",
      "Name: TEST_ARM, dtype: int64\n"
     ]
    }
   ],
   "source": [
    "cols=['TRADING_SQUAD','CARTYPE']\n",
    "describe(cols,df_a,df_b)"
   ]
  },
  {
   "cell_type": "code",
   "execution_count": 171,
   "metadata": {},
   "outputs": [
    {
     "name": "stdout",
     "output_type": "stream",
     "text": [
      "TRADING_SQUAD      CONFIRMED_RENTAL_DAYS\n",
      "Airlines - EMEA    0                        491\n",
      "                   1                         55\n",
      "                   2                         90\n",
      "                   3                        141\n",
      "                   4                        148\n",
      "                   5                        117\n",
      "                   6                        134\n",
      "                   7                        160\n",
      "                   8                        165\n",
      "                   9                         80\n",
      "                   10                        73\n",
      "                   11                        79\n",
      "                   12                        52\n",
      "                   13                        44\n",
      "                   14                        62\n",
      "                   15                        59\n",
      "                   16                        27\n",
      "                   17                        14\n",
      "                   18                        17\n",
      "                   19                         9\n",
      "                   20                        16\n",
      "                   21                        17\n",
      "                   22                        14\n",
      "                   23                         4\n",
      "                   24                         4\n",
      "                   25                         5\n",
      "                   26                         2\n",
      "                   27                         7\n",
      "                   28                         6\n",
      "                   29                         3\n",
      "                   30                         2\n",
      "                   31                         3\n",
      "                   32                         1\n",
      "                   34                         1\n",
      "                   35                         2\n",
      "OTAs & Car Brands  0                        113\n",
      "                   1                         11\n",
      "                   2                         12\n",
      "                   3                         37\n",
      "                   4                         31\n",
      "                   5                         28\n",
      "                   6                         28\n",
      "                   7                        106\n",
      "                   8                         37\n",
      "                   9                         26\n",
      "                   10                        34\n",
      "                   11                        18\n",
      "                   12                        18\n",
      "                   13                        12\n",
      "                   14                        57\n",
      "                   15                        21\n",
      "                   16                        11\n",
      "                   17                         6\n",
      "                   18                         1\n",
      "                   19                         3\n",
      "                   20                         2\n",
      "                   21                         4\n",
      "                   22                         2\n",
      "                   23                         3\n",
      "                   24                         2\n",
      "                   26                         1\n",
      "                   28                         2\n",
      "                   30                         2\n",
      "                   35                         2\n",
      "Name: TEST_ARM, dtype: int64 \n",
      "---\n",
      " TRADING_SQUAD      CONFIRMED_RENTAL_DAYS\n",
      "Airlines - EMEA    0                        479\n",
      "                   1                         44\n",
      "                   2                         75\n",
      "                   3                        128\n",
      "                   4                        162\n",
      "                   5                        121\n",
      "                   6                        121\n",
      "                   7                        157\n",
      "                   8                        201\n",
      "                   9                         87\n",
      "                   10                        85\n",
      "                   11                        68\n",
      "                   12                        54\n",
      "                   13                        41\n",
      "                   14                        66\n",
      "                   15                        61\n",
      "                   16                        22\n",
      "                   17                        20\n",
      "                   18                         9\n",
      "                   19                        17\n",
      "                   20                         9\n",
      "                   21                        12\n",
      "                   22                        12\n",
      "                   23                         5\n",
      "                   24                         3\n",
      "                   25                         5\n",
      "                   26                         3\n",
      "                   27                         4\n",
      "                   28                         1\n",
      "                   29                         2\n",
      "                   30                         2\n",
      "                   31                         1\n",
      "                   32                         2\n",
      "                   33                         1\n",
      "                   35                         2\n",
      "                   36                         1\n",
      "                   37                         1\n",
      "                   43                         1\n",
      "                   50                         1\n",
      "                   65                         1\n",
      "OTAs & Car Brands  0                        122\n",
      "                   1                          8\n",
      "                   2                         10\n",
      "                   3                         29\n",
      "                   4                         28\n",
      "                   5                         23\n",
      "                   6                         36\n",
      "                   7                         84\n",
      "                   8                         43\n",
      "                   9                         35\n",
      "                   10                        26\n",
      "                   11                        17\n",
      "                   12                        20\n",
      "                   13                        18\n",
      "                   14                        45\n",
      "                   15                        12\n",
      "                   16                         7\n",
      "                   17                         4\n",
      "                   18                         2\n",
      "                   19                         2\n",
      "                   20                         2\n",
      "                   21                         5\n",
      "                   22                         2\n",
      "                   23                         2\n",
      "                   24                         1\n",
      "                   26                         1\n",
      "                   27                         1\n",
      "Name: TEST_ARM, dtype: int64\n"
     ]
    }
   ],
   "source": [
    "cols=['TRADING_SQUAD','CONFIRMED_RENTAL_DAYS']\n",
    "describe(cols,df_a,df_b)"
   ]
  },
  {
   "cell_type": "code",
   "execution_count": 172,
   "metadata": {},
   "outputs": [
    {
     "name": "stdout",
     "output_type": "stream",
     "text": [
      "TRADING_SQUAD\n",
      "Airlines - EMEA      98.692889\n",
      "OTAs & Car Brands    81.058285\n",
      "Name: CAR_REVENUE, dtype: float64 \n",
      "---\n",
      " TRADING_SQUAD\n",
      "Airlines - EMEA      100.084580\n",
      "OTAs & Car Brands     72.704629\n",
      "Name: CAR_REVENUE, dtype: float64\n"
     ]
    }
   ],
   "source": [
    "cols1=['TRADING_SQUAD']\n",
    "col='CAR_REVENUE'\n",
    "mean_describe(cols1,df_a,df_b,col)"
   ]
  },
  {
   "cell_type": "code",
   "execution_count": 173,
   "metadata": {},
   "outputs": [
    {
     "name": "stdout",
     "output_type": "stream",
     "text": [
      "TRADING_SQUAD\n",
      "Airlines - EMEA      45.722451\n",
      "OTAs & Car Brands    92.000945\n",
      "Name: UNIT_MARGIN, dtype: float64 \n",
      "---\n",
      " TRADING_SQUAD\n",
      "Airlines - EMEA      46.346488\n",
      "OTAs & Car Brands    82.402516\n",
      "Name: UNIT_MARGIN, dtype: float64\n"
     ]
    }
   ],
   "source": [
    "cols1=['TRADING_SQUAD']\n",
    "col='UNIT_MARGIN'\n",
    "mean_describe(cols1,df_a,df_b,col)"
   ]
  },
  {
   "cell_type": "code",
   "execution_count": 174,
   "metadata": {},
   "outputs": [
    {
     "name": "stdout",
     "output_type": "stream",
     "text": [
      "TRADING_SQUAD\n",
      "Airlines - EMEA      0.766635\n",
      "OTAs & Car Brands    0.820635\n",
      "Name: CONFIRMED_BOOKINGS, dtype: float64 \n",
      "---\n",
      " TRADING_SQUAD\n",
      "Airlines - EMEA      0.770484\n",
      "OTAs & Car Brands    0.791453\n",
      "Name: CONFIRMED_BOOKINGS, dtype: float64\n"
     ]
    }
   ],
   "source": [
    "cols1=['TRADING_SQUAD']\n",
    "col='CONFIRMED_BOOKINGS'\n",
    "mean_describe(cols1,df_a,df_b,col)"
   ]
  },
  {
   "cell_type": "code",
   "execution_count": 175,
   "metadata": {},
   "outputs": [
    {
     "name": "stdout",
     "output_type": "stream",
     "text": [
      "TOUCHPOINT_NAME    PAYMENT_MODEL\n",
      "Confirmation Page  PPDEP            424\n",
      "                   PRE              932\n",
      "FlightPath         PPDEP              1\n",
      "                   PRE               74\n",
      "HomePage           PPDEP            237\n",
      "                   PRE              393\n",
      "Manage My Booking  PPDEP            239\n",
      "                   PRE              434\n",
      "Name: TEST_ARM, dtype: int64 \n",
      "---\n",
      " TOUCHPOINT_NAME    PAYMENT_MODEL\n",
      "Confirmation Page  PRE              1320\n",
      "FlightPath         PRE                54\n",
      "HomePage           PRE               585\n",
      "Manage My Booking  PRE               713\n",
      "Name: TEST_ARM, dtype: int64\n"
     ]
    }
   ],
   "source": [
    "cols=['TOUCHPOINT_NAME','PAYMENT_MODEL']\n",
    "describe(cols,df_a,df_b)"
   ]
  },
  {
   "cell_type": "code",
   "execution_count": 176,
   "metadata": {},
   "outputs": [
    {
     "name": "stdout",
     "output_type": "stream",
     "text": [
      "TOUCHPOINT_NAME    CARTYPE\n",
      "Confirmation Page  COMPACT    377\n",
      "                   ECONOMY    415\n",
      "                   MINI       159\n",
      "                   OTHER      276\n",
      "                   SUV        129\n",
      "FlightPath         COMPACT     11\n",
      "                   ECONOMY     35\n",
      "                   MINI        10\n",
      "                   OTHER       14\n",
      "                   SUV          5\n",
      "HomePage           COMPACT    139\n",
      "                   ECONOMY    184\n",
      "                   MINI        56\n",
      "                   OTHER      168\n",
      "                   SUV         83\n",
      "Manage My Booking  COMPACT    136\n",
      "                   ECONOMY    194\n",
      "                   MINI        96\n",
      "                   OTHER      166\n",
      "                   SUV         81\n",
      "Name: TEST_ARM, dtype: int64 \n",
      "---\n",
      " TOUCHPOINT_NAME    CARTYPE\n",
      "Confirmation Page  COMPACT    320\n",
      "                   ECONOMY    453\n",
      "                   MINI       145\n",
      "                   OTHER      267\n",
      "                   SUV        135\n",
      "FlightPath         COMPACT      8\n",
      "                   ECONOMY     29\n",
      "                   MINI         6\n",
      "                   OTHER        6\n",
      "                   SUV          5\n",
      "HomePage           COMPACT    115\n",
      "                   ECONOMY    165\n",
      "                   MINI        48\n",
      "                   OTHER      172\n",
      "                   SUV         85\n",
      "Manage My Booking  COMPACT    165\n",
      "                   ECONOMY    225\n",
      "                   MINI        74\n",
      "                   OTHER      145\n",
      "                   SUV        104\n",
      "Name: TEST_ARM, dtype: int64\n"
     ]
    }
   ],
   "source": [
    "cols=['TOUCHPOINT_NAME','CARTYPE']\n",
    "describe(cols,df_a,df_b)"
   ]
  },
  {
   "cell_type": "code",
   "execution_count": 177,
   "metadata": {},
   "outputs": [
    {
     "name": "stdout",
     "output_type": "stream",
     "text": [
      "TOUCHPOINT_NAME    CONFIRMED_BOOKINGS\n",
      "Confirmation Page  0                      319\n",
      "                   1                     1037\n",
      "FlightPath         0                       14\n",
      "                   1                       61\n",
      "HomePage           0                      113\n",
      "                   1                      517\n",
      "Manage My Booking  0                      158\n",
      "                   1                      515\n",
      "Name: TEST_ARM, dtype: int64 \n",
      "---\n",
      " TOUCHPOINT_NAME    CONFIRMED_BOOKINGS\n",
      "Confirmation Page  0                      302\n",
      "                   1                     1018\n",
      "FlightPath         0                       14\n",
      "                   1                       40\n",
      "HomePage           0                      122\n",
      "                   1                      463\n",
      "Manage My Booking  0                      163\n",
      "                   1                      550\n",
      "Name: TEST_ARM, dtype: int64\n"
     ]
    }
   ],
   "source": [
    "cols=['TOUCHPOINT_NAME','CONFIRMED_BOOKINGS']\n",
    "describe(cols,df_a,df_b)"
   ]
  },
  {
   "cell_type": "code",
   "execution_count": 178,
   "metadata": {},
   "outputs": [
    {
     "name": "stdout",
     "output_type": "stream",
     "text": [
      "TOUCHPOINT_NAME    CONFIRMED_RENTAL_DAYS\n",
      "Confirmation Page  0                        319\n",
      "                   1                         43\n",
      "                   2                         72\n",
      "                   3                        107\n",
      "                   4                         92\n",
      "                   5                         80\n",
      "                   6                         88\n",
      "                   7                         97\n",
      "                   8                        101\n",
      "                   9                         50\n",
      "                   10                        44\n",
      "                   11                        39\n",
      "                   12                        32\n",
      "                   13                        30\n",
      "                   14                        38\n",
      "                   15                        41\n",
      "                   16                        17\n",
      "                   17                         6\n",
      "                   18                         5\n",
      "                   19                         5\n",
      "                   20                         8\n",
      "                   21                        10\n",
      "                   22                         9\n",
      "                   23                         1\n",
      "                   24                         2\n",
      "                   25                         5\n",
      "                   26                         2\n",
      "                   27                         3\n",
      "                   28                         3\n",
      "                   29                         2\n",
      "                   30                         2\n",
      "                   31                         1\n",
      "                   32                         1\n",
      "                   34                         1\n",
      "FlightPath         0                         14\n",
      "                   1                          1\n",
      "                   2                          4\n",
      "                   3                          5\n",
      "                   4                          4\n",
      "                   5                          5\n",
      "                   6                          8\n",
      "                   7                         10\n",
      "                   8                          8\n",
      "                   9                          3\n",
      "                   11                         3\n",
      "                   12                         2\n",
      "                   14                         4\n",
      "                   16                         1\n",
      "                   17                         2\n",
      "                   18                         1\n",
      "HomePage           0                        113\n",
      "                   1                         11\n",
      "                   2                         12\n",
      "                   3                         37\n",
      "                   4                         31\n",
      "                   5                         28\n",
      "                   6                         28\n",
      "                   7                        106\n",
      "                   8                         37\n",
      "                   9                         26\n",
      "                   10                        34\n",
      "                   11                        18\n",
      "                   12                        18\n",
      "                   13                        12\n",
      "                   14                        57\n",
      "                   15                        21\n",
      "                   16                        11\n",
      "                   17                         6\n",
      "                   18                         1\n",
      "                   19                         3\n",
      "                   20                         2\n",
      "                   21                         4\n",
      "                   22                         2\n",
      "                   23                         3\n",
      "                   24                         2\n",
      "                   26                         1\n",
      "                   28                         2\n",
      "                   30                         2\n",
      "                   35                         2\n",
      "Manage My Booking  0                        158\n",
      "                   1                         11\n",
      "                   2                         14\n",
      "                   3                         29\n",
      "                   4                         52\n",
      "                   5                         32\n",
      "                   6                         38\n",
      "                   7                         53\n",
      "                   8                         56\n",
      "                   9                         27\n",
      "                   10                        29\n",
      "                   11                        37\n",
      "                   12                        18\n",
      "                   13                        14\n",
      "                   14                        20\n",
      "                   15                        18\n",
      "                   16                         9\n",
      "                   17                         6\n",
      "                   18                        11\n",
      "                   19                         4\n",
      "                   20                         8\n",
      "                   21                         7\n",
      "                   22                         5\n",
      "                   23                         3\n",
      "                   24                         2\n",
      "                   27                         4\n",
      "                   28                         3\n",
      "                   29                         1\n",
      "                   31                         2\n",
      "                   35                         2\n",
      "Name: TEST_ARM, dtype: int64 \n",
      "---\n",
      " TOUCHPOINT_NAME    CONFIRMED_RENTAL_DAYS\n",
      "Confirmation Page  0                        302\n",
      "                   1                         31\n",
      "                   2                         58\n",
      "                   3                         94\n",
      "                   4                        109\n",
      "                   5                         80\n",
      "                   6                         78\n",
      "                   7                         92\n",
      "                   8                        117\n",
      "                   9                         54\n",
      "                   10                        56\n",
      "                   11                        43\n",
      "                   12                        41\n",
      "                   13                        22\n",
      "                   14                        34\n",
      "                   15                        32\n",
      "                   16                        14\n",
      "                   17                        12\n",
      "                   18                         8\n",
      "                   19                        11\n",
      "                   20                         4\n",
      "                   21                         5\n",
      "                   22                         7\n",
      "                   23                         2\n",
      "                   24                         1\n",
      "                   25                         2\n",
      "                   26                         3\n",
      "                   27                         1\n",
      "                   29                         1\n",
      "                   32                         1\n",
      "                   33                         1\n",
      "                   35                         2\n",
      "                   43                         1\n",
      "                   50                         1\n",
      "FlightPath         0                         14\n",
      "                   1                          1\n",
      "                   2                          2\n",
      "                   4                          6\n",
      "                   5                          3\n",
      "                   6                          7\n",
      "                   7                          6\n",
      "                   8                          2\n",
      "                   9                          3\n",
      "                   10                         1\n",
      "                   11                         1\n",
      "                   13                         2\n",
      "                   14                         3\n",
      "                   15                         1\n",
      "                   16                         1\n",
      "                   30                         1\n",
      "HomePage           0                        122\n",
      "                   1                          8\n",
      "                   2                         10\n",
      "                   3                         29\n",
      "                   4                         28\n",
      "                   5                         23\n",
      "                   6                         36\n",
      "                   7                         84\n",
      "                   8                         43\n",
      "                   9                         35\n",
      "                   10                        26\n",
      "                   11                        17\n",
      "                   12                        20\n",
      "                   13                        18\n",
      "                   14                        45\n",
      "                   15                        12\n",
      "                   16                         7\n",
      "                   17                         4\n",
      "                   18                         2\n",
      "                   19                         2\n",
      "                   20                         2\n",
      "                   21                         5\n",
      "                   22                         2\n",
      "                   23                         2\n",
      "                   24                         1\n",
      "                   26                         1\n",
      "                   27                         1\n",
      "Manage My Booking  0                        163\n",
      "                   1                         12\n",
      "                   2                         15\n",
      "                   3                         34\n",
      "                   4                         47\n",
      "                   5                         38\n",
      "                   6                         36\n",
      "                   7                         59\n",
      "                   8                         82\n",
      "                   9                         30\n",
      "                   10                        28\n",
      "                   11                        24\n",
      "                   12                        13\n",
      "                   13                        17\n",
      "                   14                        29\n",
      "                   15                        28\n",
      "                   16                         7\n",
      "                   17                         8\n",
      "                   18                         1\n",
      "                   19                         6\n",
      "                   20                         5\n",
      "                   21                         7\n",
      "                   22                         5\n",
      "                   23                         3\n",
      "                   24                         2\n",
      "                   25                         3\n",
      "                   27                         3\n",
      "                   28                         1\n",
      "                   29                         1\n",
      "                   30                         1\n",
      "                   31                         1\n",
      "                   32                         1\n",
      "                   36                         1\n",
      "                   37                         1\n",
      "                   65                         1\n",
      "Name: TEST_ARM, dtype: int64\n"
     ]
    }
   ],
   "source": [
    "cols=['TOUCHPOINT_NAME','CONFIRMED_RENTAL_DAYS']\n",
    "describe(cols,df_a,df_b)"
   ]
  },
  {
   "cell_type": "code",
   "execution_count": 179,
   "metadata": {},
   "outputs": [
    {
     "name": "stdout",
     "output_type": "stream",
     "text": [
      "TOUCHPOINT_NAME\n",
      "Confirmation Page    99.066447\n",
      "FlightPath           98.891260\n",
      "HomePage             81.058285\n",
      "Manage My Booking    97.918115\n",
      "Name: CAR_REVENUE, dtype: float64 \n",
      "---\n",
      " TOUCHPOINT_NAME\n",
      "Confirmation Page     97.314528\n",
      "FlightPath           103.100580\n",
      "HomePage              72.704629\n",
      "Manage My Booking    104.984445\n",
      "Name: CAR_REVENUE, dtype: float64\n"
     ]
    }
   ],
   "source": [
    "cols1=['TOUCHPOINT_NAME']\n",
    "col='CAR_REVENUE'\n",
    "mean_describe(cols1,df_a,df_b,col)"
   ]
  },
  {
   "cell_type": "code",
   "execution_count": 180,
   "metadata": {},
   "outputs": [
    {
     "name": "stdout",
     "output_type": "stream",
     "text": [
      "TOUCHPOINT_NAME\n",
      "Confirmation Page    45.101509\n",
      "FlightPath           32.911372\n",
      "HomePage             92.000945\n",
      "Manage My Booking    48.401244\n",
      "Name: UNIT_MARGIN, dtype: float64 \n",
      "---\n",
      " TOUCHPOINT_NAME\n",
      "Confirmation Page    44.330466\n",
      "FlightPath           31.994522\n",
      "HomePage             82.402516\n",
      "Manage My Booking    51.165778\n",
      "Name: UNIT_MARGIN, dtype: float64\n"
     ]
    }
   ],
   "source": [
    "cols1=['TOUCHPOINT_NAME']\n",
    "col='UNIT_MARGIN'\n",
    "mean_describe(cols1,df_a,df_b,col)"
   ]
  },
  {
   "cell_type": "code",
   "execution_count": 181,
   "metadata": {},
   "outputs": [
    {
     "name": "stdout",
     "output_type": "stream",
     "text": [
      "TOUCHPOINT_NAME\n",
      "Confirmation Page    0.764749\n",
      "FlightPath           0.813333\n",
      "HomePage             0.820635\n",
      "Manage My Booking    0.765230\n",
      "Name: CONFIRMED_BOOKINGS, dtype: float64 \n",
      "---\n",
      " TOUCHPOINT_NAME\n",
      "Confirmation Page    0.771212\n",
      "FlightPath           0.740741\n",
      "HomePage             0.791453\n",
      "Manage My Booking    0.771388\n",
      "Name: CONFIRMED_BOOKINGS, dtype: float64\n"
     ]
    }
   ],
   "source": [
    "cols1=['TOUCHPOINT_NAME']\n",
    "col='CONFIRMED_BOOKINGS'\n",
    "mean_describe(cols1,df_a,df_b,col)"
   ]
  },
  {
   "cell_type": "code",
   "execution_count": 182,
   "metadata": {},
   "outputs": [
    {
     "name": "stdout",
     "output_type": "stream",
     "text": [
      "CARTYPE\n",
      "COMPACT     86.024183\n",
      "ECONOMY     76.510213\n",
      "MINI        70.101017\n",
      "OTHER      128.390421\n",
      "SUV        119.845699\n",
      "Name: CAR_REVENUE, dtype: float64 \n",
      "---\n",
      " CARTYPE\n",
      "COMPACT     92.074068\n",
      "ECONOMY     76.811241\n",
      "MINI        67.579358\n",
      "OTHER      123.660449\n",
      "SUV        112.581948\n",
      "Name: CAR_REVENUE, dtype: float64\n"
     ]
    }
   ],
   "source": [
    "cols1=['CARTYPE']\n",
    "col='CAR_REVENUE'\n",
    "mean_describe(cols1,df_a,df_b,col)"
   ]
  },
  {
   "cell_type": "code",
   "execution_count": 183,
   "metadata": {},
   "outputs": [
    {
     "name": "stdout",
     "output_type": "stream",
     "text": [
      "CARTYPE\n",
      "COMPACT    52.405606\n",
      "ECONOMY    47.563153\n",
      "MINI       41.887586\n",
      "OTHER      71.979006\n",
      "SUV        72.726877\n",
      "Name: UNIT_MARGIN, dtype: float64 \n",
      "---\n",
      " CARTYPE\n",
      "COMPACT    54.982678\n",
      "ECONOMY    45.882823\n",
      "MINI       41.714334\n",
      "OTHER      66.274591\n",
      "SUV        63.833678\n",
      "Name: UNIT_MARGIN, dtype: float64\n"
     ]
    }
   ],
   "source": [
    "cols1=['CARTYPE']\n",
    "col='UNIT_MARGIN'\n",
    "mean_describe(cols1,df_a,df_b,col)"
   ]
  },
  {
   "cell_type": "code",
   "execution_count": 184,
   "metadata": {},
   "outputs": [
    {
     "name": "stdout",
     "output_type": "stream",
     "text": [
      "CARTYPE\n",
      "COMPACT    0.770739\n",
      "ECONOMY    0.792271\n",
      "MINI       0.803738\n",
      "OTHER      0.745192\n",
      "SUV        0.805369\n",
      "Name: CONFIRMED_BOOKINGS, dtype: float64 \n",
      "---\n",
      " CARTYPE\n",
      "COMPACT    0.812500\n",
      "ECONOMY    0.771789\n",
      "MINI       0.758242\n",
      "OTHER      0.762712\n",
      "SUV        0.750760\n",
      "Name: CONFIRMED_BOOKINGS, dtype: float64\n"
     ]
    }
   ],
   "source": [
    "cols1=['CARTYPE']\n",
    "col='CONFIRMED_BOOKINGS'\n",
    "mean_describe(cols1,df_a,df_b,col)"
   ]
  },
  {
   "cell_type": "code",
   "execution_count": 185,
   "metadata": {},
   "outputs": [
    {
     "data": {
      "text/plain": [
       "Ttest_indResult(statistic=0.193272635286853, pvalue=0.846752722352521)"
      ]
     },
     "execution_count": 185,
     "metadata": {},
     "output_type": "execute_result"
    }
   ],
   "source": [
    "from scipy import stats\n",
    "stats.ttest_ind(df_a.CAR_REVENUE, df_b.CAR_REVENUE,equal_var=False)"
   ]
  },
  {
   "cell_type": "code",
   "execution_count": 186,
   "metadata": {},
   "outputs": [
    {
     "data": {
      "text/plain": [
       "Ttest_indResult(statistic=1.2999709092704783, pvalue=0.19366670160299018)"
      ]
     },
     "execution_count": 186,
     "metadata": {},
     "output_type": "execute_result"
    }
   ],
   "source": [
    "stats.ttest_ind(df_a.UNIT_MARGIN, df_b.UNIT_MARGIN,equal_var=False)"
   ]
  },
  {
   "cell_type": "code",
   "execution_count": 187,
   "metadata": {},
   "outputs": [
    {
     "data": {
      "text/plain": [
       "Ttest_indResult(statistic=0.35351667195438596, pvalue=0.723714934221557)"
      ]
     },
     "execution_count": 187,
     "metadata": {},
     "output_type": "execute_result"
    }
   ],
   "source": [
    "stats.ttest_ind(df_a.CONFIRMED_BOOKINGS, df_b.CONFIRMED_BOOKINGS,equal_var=False)"
   ]
  }
 ],
 "metadata": {
  "kernelspec": {
   "display_name": "Python 3",
   "language": "python",
   "name": "python3"
  },
  "language_info": {
   "codemirror_mode": {
    "name": "ipython",
    "version": 3
   },
   "file_extension": ".py",
   "mimetype": "text/x-python",
   "name": "python",
   "nbconvert_exporter": "python",
   "pygments_lexer": "ipython3",
   "version": "3.7.4"
  }
 },
 "nbformat": 4,
 "nbformat_minor": 4
}
